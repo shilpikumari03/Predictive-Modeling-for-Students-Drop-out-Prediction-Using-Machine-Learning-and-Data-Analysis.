{
 "cells": [
  {
   "cell_type": "markdown",
   "id": "54e2e0e9-9254-4953-b472-c3f92d87e046",
   "metadata": {
    "id": "54e2e0e9-9254-4953-b472-c3f92d87e046"
   },
   "source": [
    "# **Students' Dropout Prediction*\n",
    "\n",
    "\n",
    "\n",
    "Introduction\n",
    "\n",
    "\n",
    "This project aimed to contribute to the reduction of dropouts in higher education by using machine learning techniques. It essentially identifies students at risk of dropping out early in their academic path, allowing support strategies to be implemented. \n",
    "The dataset used for this project is from a higher education institution in Portugal that contains information of students at the time of enrolment like demographics, socio-economic factors along with their academic performance during the first year(2 semesters). There is also the status of the student(Droput/Enrolled/Graduate) for each instance.For this project, we customized the target variable as binary classification model (Drop-out or Not Drop-out).\n",
    "\n",
    "After necessary data cleaning and preprocessing, Classification models will be trained and evaluated using the relevant machine learning algorithms. \n",
    "\n",
    "\n",
    "Our prediction task is to determine whether the student will drop-out or not based on various attributes like \n",
    "Marital status,Application mode,Application order,Course,Daytime/evening attendance,Previous qualification,Previous qualification (grade),Nationality,Mother's qualification,Father's qualification,Mother's occupation,Father's occupation,Admission grade,Displaced,Educational special needs,Debtor,Tuition fees up to date,Gender,Scholarship holder,Age at enrollment,International,Curricular units 1st sem (credited),Curricular units 1st sem (enrolled),Curricular units 1st sem (evaluations),Curricular units 1st sem (approved),Curricular units 1st sem (grade),Curricular units 1st sem (without evaluations),Curricular units 2nd sem (credited),Curricular units 2nd sem (enrolled),Curricular units 2nd sem (evaluations),Curricular units 2nd sem (approved),Curricular units 2nd sem (grade),Curricular units 2nd sem (without evaluations),Unemployment rate, Inflation rate and GDP).\n"
   ]
  },
  {
   "cell_type": "markdown",
   "id": "53de8073-436a-4d64-b1ce-99b6f0f7dc60",
   "metadata": {
    "id": "53de8073-436a-4d64-b1ce-99b6f0f7dc60"
   },
   "source": [
    "## Step 1: Install and/or import necessary packages"
   ]
  },
  {
   "cell_type": "code",
   "execution_count": null,
   "id": "0792bb0a-227d-4116-a1ce-0ba42a8ccb02",
   "metadata": {
    "id": "0792bb0a-227d-4116-a1ce-0ba42a8ccb02"
   },
   "outputs": [],
   "source": [
    "# Data Manipulation\n",
    "import pandas as pd\n",
    "import numpy as np\n",
    "# Plot Handling/Visualization\n",
    "import matplotlib.pyplot as plt\n",
    "import seaborn as sns\n",
    "# Preprocessing data\n",
    "from sklearn.preprocessing import StandardScaler,OneHotEncoder\n",
    "from sklearn.model_selection import train_test_split, cross_val_score, GridSearchCV,RandomizedSearchCV\n",
    "# MODELS\n",
    "from sklearn.tree import DecisionTreeClassifier\n",
    "from sklearn.ensemble import RandomForestClassifier, GradientBoostingClassifier, AdaBoostClassifier\n",
    "from xgboost import XGBClassifier\n",
    "from sklearn.neighbors import KNeighborsClassifier\n",
    "from sklearn.linear_model import LogisticRegression\n",
    "from sklearn.metrics import confusion_matrix\n",
    "\n",
    "from sklearn.neural_network import MLPClassifier\n",
    "from xgboost import XGBClassifier\n",
    "\n",
    "# Performance measures\n",
    "from sklearn.metrics import accuracy_score, precision_score, recall_score, f1_score,fbeta_score,make_scorer,confusion_matrix, classification_report,plot_roc_curve, roc_auc_score, roc_curve, auc, RocCurveDisplay, PrecisionRecallDisplay, precision_recall_curve\n"
   ]
  },
  {
   "cell_type": "markdown",
   "id": "37641204-4ea0-4927-a8ab-3506381d3550",
   "metadata": {
    "id": "37641204-4ea0-4927-a8ab-3506381d3550"
   },
   "source": [
    "## Step 2: Preliminary Business Problem Scoping\n",
    "\n",
    "We are developing a binary classifier to identify if a student is Dropout or not based on the academic performance in the first year and the available demographic information. Below are the various scenarios that are \n",
    "anticipated during the model training:\n",
    "\n",
    "True Positives(TP)- When model predicts the student as \"Drop-out\" and the actual is also \"Drop-out\".\n",
    "True Negatives(TN)- When model predicts the student as \"Not Drop-out\" and the actual is \"Not Drop-out\" as well.\n",
    "False Positives(FP)-When model predicts the student as \"Drop-out\" when in reality the student is \"Not Drop-out\".\n",
    "False Negatives(FN)-When model predicts the student as \"Not Drop-out\" when in reality the student is \"Drop-out\".\n",
    "\n",
    "\n",
    "The model is essentially being developed to solve the drop-out problem in the university wherein the University can intervene with programs like career-couselling,mentorship,alternate class scheduling, online classes etc., to encourage the student complete the course. \n",
    "Although, there is a cost for the university (in terms of the additional resources it will have to spend) if there are False Postives,it is relatively less in comparision with False Negatives. The revenue loss due to \"drop-outs\" far outweighs the cost of additional resources for the interventions by the university.\n",
    "\n",
    "So, our approach will be to reduce the FNs as much as possible(ideally make them zero). In other words, we aim to maximize the \"Recall Score\" in the project. However, if there is data imbalance, we will focus on maximizing the \"F2 score\" which considers both precision and recall with a higher weightage to 'Recall'. The model with high Recall/F2 score is the better performing model.\n",
    "\n",
    "We will carry out the analysis in two cases. In Case-1, we are intereseted to check whether we can predict the drop-outs only from the admission information(i.e.,attributes collected at the time of enrolment of the students). If we are successful(i.e, if we get good performance scores), the university can engage with the students right from the beginning of the semester. In Case-2, we will carry out the analysis based on the entire data excluding the irrelevant attributes. \n"
   ]
  },
  {
   "cell_type": "markdown",
   "id": "253045db-3b84-4e08-a8a3-cf5876346e3e",
   "metadata": {
    "id": "253045db-3b84-4e08-a8a3-cf5876346e3e"
   },
   "source": [
    "## Step 3: Load, clean and prepare data for analysis"
   ]
  },
  {
   "cell_type": "code",
   "execution_count": null,
   "id": "6dd1a07a-4354-4de5-b1b6-86ba4a3d75a7",
   "metadata": {
    "id": "6dd1a07a-4354-4de5-b1b6-86ba4a3d75a7"
   },
   "outputs": [],
   "source": [
    "df = pd.read_csv(r'C:\\Users\\shilp\\Downloads\\Student_data_Mac_2 (1).csv')"
   ]
  },
  {
   "cell_type": "markdown",
   "id": "98661026-911f-495f-ad0b-8b8c6807a3fe",
   "metadata": {
    "id": "98661026-911f-495f-ad0b-8b8c6807a3fe",
    "tags": []
   },
   "source": [
    "### Explore the data"
   ]
  },
  {
   "cell_type": "code",
   "execution_count": null,
   "id": "c3414bc6-8b9c-4e77-86a3-33a40c1fa9e8",
   "metadata": {
    "colab": {
     "base_uri": "https://localhost:8080/"
    },
    "id": "c3414bc6-8b9c-4e77-86a3-33a40c1fa9e8",
    "outputId": "2941ecce-2029-40a2-8405-e6540e8d8181"
   },
   "outputs": [],
   "source": [
    "df.shape"
   ]
  },
  {
   "cell_type": "code",
   "execution_count": null,
   "id": "7f04c5f1-3ca4-4727-b316-8a934a28328f",
   "metadata": {
    "colab": {
     "base_uri": "https://localhost:8080/"
    },
    "id": "7f04c5f1-3ca4-4727-b316-8a934a28328f",
    "outputId": "8351adf3-e463-473a-d07b-d2d81d5b1adb"
   },
   "outputs": [],
   "source": [
    "df.columns"
   ]
  },
  {
   "cell_type": "code",
   "execution_count": null,
   "id": "dbed6964-4086-44e4-b27d-25eb2b6c9414",
   "metadata": {
    "colab": {
     "base_uri": "https://localhost:8080/"
    },
    "id": "dbed6964-4086-44e4-b27d-25eb2b6c9414",
    "outputId": "afee7e50-fa6a-4f8d-fd94-c82261271448"
   },
   "outputs": [],
   "source": [
    "df.info()"
   ]
  },
  {
   "cell_type": "markdown",
   "id": "1621c66e-f05d-45fd-a46e-90be8b6dcf9f",
   "metadata": {
    "id": "1621c66e-f05d-45fd-a46e-90be8b6dcf9f"
   },
   "source": [
    "**From the above, we can see that there are no null values in the dataset**"
   ]
  },
  {
   "cell_type": "code",
   "execution_count": null,
   "id": "3d00a361-a7a8-4276-8f62-00fbea0a4ef0",
   "metadata": {
    "colab": {
     "base_uri": "https://localhost:8080/"
    },
    "id": "3d00a361-a7a8-4276-8f62-00fbea0a4ef0",
    "outputId": "5ecf87a0-e8a1-464a-cae5-77334632bb05"
   },
   "outputs": [],
   "source": [
    "df.isna().sum()"
   ]
  },
  {
   "cell_type": "markdown",
   "id": "19602366-44f7-439a-869d-d81f11de0d0d",
   "metadata": {
    "id": "19602366-44f7-439a-869d-d81f11de0d0d"
   },
   "source": [
    "## Step 4: Clean and transform data"
   ]
  },
  {
   "cell_type": "markdown",
   "id": "e1e92f1f-8cbe-4212-840e-12c956586f49",
   "metadata": {
    "id": "e1e92f1f-8cbe-4212-840e-12c956586f49"
   },
   "source": [
    "**Clean the column names**"
   ]
  },
  {
   "cell_type": "code",
   "execution_count": null,
   "id": "bfed3357-3e04-4e35-b0c8-9cdfdd463e6e",
   "metadata": {
    "id": "bfed3357-3e04-4e35-b0c8-9cdfdd463e6e"
   },
   "outputs": [],
   "source": [
    "df.columns = [s.strip().replace(' ', '_') for s in df.columns] "
   ]
  },
  {
   "cell_type": "code",
   "execution_count": null,
   "id": "2406a136-ac56-49b8-88bf-5d34607051bd",
   "metadata": {
    "id": "2406a136-ac56-49b8-88bf-5d34607051bd"
   },
   "outputs": [],
   "source": [
    "df = df.rename(columns={'Nacionality': 'Nationality'})\n"
   ]
  },
  {
   "cell_type": "code",
   "execution_count": null,
   "id": "14e17dba-7ce6-4a1c-b08e-a4b5213b4188",
   "metadata": {
    "colab": {
     "base_uri": "https://localhost:8080/"
    },
    "id": "14e17dba-7ce6-4a1c-b08e-a4b5213b4188",
    "outputId": "c09eef9b-2080-4c54-c50e-aeb3f7b46215"
   },
   "outputs": [],
   "source": [
    "df['Target'].unique()"
   ]
  },
  {
   "cell_type": "markdown",
   "id": "83376021-b1af-41bc-ad05-3ee21a91766b",
   "metadata": {
    "id": "83376021-b1af-41bc-ad05-3ee21a91766b"
   },
   "source": [
    "**Transform multi-class to binary class**"
   ]
  },
  {
   "cell_type": "code",
   "execution_count": null,
   "id": "15d1c493-8cbd-47db-9522-6544ae7116e8",
   "metadata": {
    "id": "15d1c493-8cbd-47db-9522-6544ae7116e8"
   },
   "outputs": [],
   "source": [
    "status = []\n",
    "\n",
    "for i in df['Target']:\n",
    "    if i == 'Dropout':\n",
    "        status.append('Drop-out')\n",
    "    else:\n",
    "        status.append('Not Drop-out')\n",
    "        "
   ]
  },
  {
   "cell_type": "markdown",
   "id": "eca1ee95-d738-44f8-93a2-608d51d2ae28",
   "metadata": {
    "id": "eca1ee95-d738-44f8-93a2-608d51d2ae28"
   },
   "source": [
    "**Create a new column with binary class values and drop the multi-class column from the dataframe**"
   ]
  },
  {
   "cell_type": "code",
   "execution_count": null,
   "id": "5577ac31-986e-4782-9833-fe89f7b95441",
   "metadata": {
    "id": "5577ac31-986e-4782-9833-fe89f7b95441"
   },
   "outputs": [],
   "source": [
    "df['status'] = status"
   ]
  },
  {
   "cell_type": "code",
   "execution_count": null,
   "id": "046f0bc6-72ce-4b4e-ac78-1f53ee0b0930",
   "metadata": {
    "colab": {
     "base_uri": "https://localhost:8080/"
    },
    "id": "046f0bc6-72ce-4b4e-ac78-1f53ee0b0930",
    "outputId": "6b36eb70-fcc4-4351-dfe3-01e4d7eec213"
   },
   "outputs": [],
   "source": [
    "df.status.unique()"
   ]
  },
  {
   "cell_type": "code",
   "execution_count": null,
   "id": "73118f4d-9858-4d59-8d7b-fda6264e2c05",
   "metadata": {
    "id": "73118f4d-9858-4d59-8d7b-fda6264e2c05"
   },
   "outputs": [],
   "source": [
    "df = df.drop(columns = ['Target'])"
   ]
  },
  {
   "cell_type": "code",
   "execution_count": null,
   "id": "7dc3b57f-2b67-457a-8681-87e0ed397f2e",
   "metadata": {
    "id": "7dc3b57f-2b67-457a-8681-87e0ed397f2e"
   },
   "outputs": [],
   "source": [
    "category_cols = ['Marital_status','Application_mode','Application_order','Course','Daytime/evening_attendance'\n",
    "                 ,'Previous_qualification','Nationality',\"Mother's_qualification\",\"Father's_qualification\"\n",
    "                 ,\"Mother's_occupation\",\"Father's_occupation\",'Displaced','Educational_special_needs'\n",
    "                 ,'Debtor','Tuition_fees_up_to_date','Gender','Scholarship_holder'\n",
    "                 ,'International']"
   ]
  },
  {
   "cell_type": "markdown",
   "id": "a07cf876-2c25-4a19-8d69-e6677ed51988",
   "metadata": {
    "id": "a07cf876-2c25-4a19-8d69-e6677ed51988"
   },
   "source": [
    "**Encode the Target variable**"
   ]
  },
  {
   "cell_type": "code",
   "execution_count": null,
   "id": "d6404399-84b9-4ef2-84ea-d1553e931a92",
   "metadata": {
    "id": "d6404399-84b9-4ef2-84ea-d1553e931a92"
   },
   "outputs": [],
   "source": [
    "df.status = df.status.replace('Not Drop-out', 0, regex=True)\n",
    "df.status = df.status.replace('Drop-out', 1, regex=True)  "
   ]
  },
  {
   "cell_type": "markdown",
   "id": "17bf3861-52ec-406e-b006-a54128b22948",
   "metadata": {
    "id": "17bf3861-52ec-406e-b006-a54128b22948"
   },
   "source": [
    "**Transform the datatypes to categorical**"
   ]
  },
  {
   "cell_type": "code",
   "execution_count": null,
   "id": "6feed279",
   "metadata": {
    "id": "6feed279"
   },
   "outputs": [],
   "source": [
    "for col in category_cols:\n",
    "    df[col] = df[col].astype('category')"
   ]
  },
  {
   "cell_type": "code",
   "execution_count": null,
   "id": "cDsxatzDqDzY",
   "metadata": {
    "id": "cDsxatzDqDzY"
   },
   "outputs": [],
   "source": [
    "df.status = df.status.astype('category')"
   ]
  },
  {
   "cell_type": "code",
   "execution_count": null,
   "id": "bccc0426-b841-4682-af65-3ca90e1a56dd",
   "metadata": {
    "colab": {
     "base_uri": "https://localhost:8080/",
     "height": 300
    },
    "id": "bccc0426-b841-4682-af65-3ca90e1a56dd",
    "outputId": "ee8421a3-a478-408b-d71d-fb0133406604"
   },
   "outputs": [],
   "source": [
    "df.head()"
   ]
  },
  {
   "cell_type": "markdown",
   "id": "294a62f8-bba8-4958-8c50-85786839d35c",
   "metadata": {
    "id": "294a62f8-bba8-4958-8c50-85786839d35c"
   },
   "source": [
    "Note:\n",
    "\n",
    "There is an ambiguity on the year considered(whether it is during enrolment time/at the time of drop-out)\n",
    "for the macro-economic factors in the dataset (\"Employment rate\", \"GDP\" and \"Inflation). \n",
    "Hence, the same are dropped for the analysis.\n"
   ]
  },
  {
   "cell_type": "markdown",
   "id": "5813c124-d5fa-412e-b0c6-0c8a0324e6b2",
   "metadata": {
    "id": "5813c124-d5fa-412e-b0c6-0c8a0324e6b2"
   },
   "source": [
    "# Case-1: Prediction with only the student data available at the time of enrolment \n",
    "\n",
    "(i.e, removing the attributes-student academic performance at the university and macro-economic factors from the analysis)\n"
   ]
  },
  {
   "cell_type": "markdown",
   "id": "8442bf14-504d-40db-ad0d-6a6c23d2a774",
   "metadata": {
    "id": "8442bf14-504d-40db-ad0d-6a6c23d2a774"
   },
   "source": [
    "**Create a dataframe(df_1) with the student attributes available at the time of enrolment**"
   ]
  },
  {
   "cell_type": "code",
   "execution_count": null,
   "id": "4ee256e3-7e57-4856-9c51-13e8b40e2305",
   "metadata": {
    "id": "4ee256e3-7e57-4856-9c51-13e8b40e2305"
   },
   "outputs": [],
   "source": [
    "\n",
    "df_1 = df[['Marital_status', 'Application_mode', 'Application_order', 'Course',\n",
    "       'Daytime/evening_attendance', 'Previous_qualification',\n",
    "       'Previous_qualification_(grade)', 'Nationality',\n",
    "       \"Mother's_qualification\", \"Father's_qualification\",\n",
    "       \"Mother's_occupation\", \"Father's_occupation\", 'Admission_grade',\n",
    "       'Displaced', 'Educational_special_needs', 'Debtor',\n",
    "       'Gender', 'Scholarship_holder',\n",
    "       'Age_at_enrollment', 'International','status'\n",
    "        ]]\n"
   ]
  },
  {
   "cell_type": "markdown",
   "id": "99739d8f-2847-4ef2-b03b-92571f164c1e",
   "metadata": {
    "id": "99739d8f-2847-4ef2-b03b-92571f164c1e"
   },
   "source": [
    "**Encoding dummies for the categorical variables**"
   ]
  },
  {
   "cell_type": "code",
   "execution_count": null,
   "id": "269c6faf-c18c-43e6-913e-4bdc8cea179d",
   "metadata": {
    "id": "269c6faf-c18c-43e6-913e-4bdc8cea179d"
   },
   "outputs": [],
   "source": [
    "cat_cols = [col for col in df_1.columns if df_1[col].dtype in ['category']]\n",
    "\n",
    "cat_cols.remove('status')\n"
   ]
  },
  {
   "cell_type": "code",
   "execution_count": null,
   "id": "b51fda7e-323b-4e11-a437-fa9f751fe876",
   "metadata": {
    "colab": {
     "base_uri": "https://localhost:8080/",
     "height": 300
    },
    "id": "b51fda7e-323b-4e11-a437-fa9f751fe876",
    "outputId": "e72684a9-a0af-4cfa-c585-29e6d2a9122c"
   },
   "outputs": [],
   "source": [
    "\n",
    "df_1 = pd.get_dummies(df_1, columns = cat_cols)\n",
    "\n",
    "\n",
    "df_1.head()\n"
   ]
  },
  {
   "cell_type": "markdown",
   "id": "480c600d-7bd8-4794-b8b1-35e3a51b8bab",
   "metadata": {
    "id": "480c600d-7bd8-4794-b8b1-35e3a51b8bab"
   },
   "source": [
    "**Visualize the class counts to check for imbalance**"
   ]
  },
  {
   "cell_type": "code",
   "execution_count": null,
   "id": "35ad6091-92a4-4276-a334-725ddf4c85e4",
   "metadata": {
    "colab": {
     "base_uri": "https://localhost:8080/",
     "height": 351
    },
    "id": "35ad6091-92a4-4276-a334-725ddf4c85e4",
    "outputId": "94b05a9f-6e84-4668-8907-57f7cb56c896"
   },
   "outputs": [],
   "source": [
    "sns.countplot(df_1.status)"
   ]
  },
  {
   "cell_type": "markdown",
   "id": "446ec56c-c43b-4508-936c-674699b21ea2",
   "metadata": {
    "id": "446ec56c-c43b-4508-936c-674699b21ea2"
   },
   "source": [
    "**Partition the data into Training and Test sets for model evaluation**"
   ]
  },
  {
   "cell_type": "code",
   "execution_count": null,
   "id": "05027125-a2eb-4be0-bd96-7fb7a04341d9",
   "metadata": {
    "id": "05027125-a2eb-4be0-bd96-7fb7a04341d9"
   },
   "outputs": [],
   "source": [
    "\n",
    "train_df, test_df = train_test_split(df_1, train_size=0.7, random_state=99)\n",
    "#We've decided to utilize a training/test split of the data at 70% training and 30% testing. This percentage split ratio is inline with common practice for small to medium sized datasets, which this data represents. Moreover, we have decided not to do a three way data split, as we are only testing two models and we wish to allocate as much data as possible to training.\n",
    "\n"
   ]
  },
  {
   "cell_type": "code",
   "execution_count": null,
   "id": "057c366e-4961-47f3-b540-2ca33ba70a09",
   "metadata": {
    "id": "057c366e-4961-47f3-b540-2ca33ba70a09"
   },
   "outputs": [],
   "source": [
    "\n",
    "## Step-6: Address Data Imbalances with Oversampling technique\n",
    "\n",
    "count_0 = (train_df.status==0).sum()\n",
    "count_1 = (train_df.status==1).sum()\n",
    "\n",
    "train_df_0 = train_df.loc[train_df.status==0]\n",
    "train_df_1 = train_df.loc[train_df.status==1]\n",
    "\n",
    "train_df_1_oversampled = train_df_1.sample((count_0-count_1),replace=True)\n",
    "\n",
    "train_df = pd.concat([train_df,train_df_1_oversampled],ignore_index = True)\n"
   ]
  },
  {
   "cell_type": "code",
   "execution_count": null,
   "id": "c16743b0-c1cc-4083-8181-eeb7d1cff8d6",
   "metadata": {
    "colab": {
     "base_uri": "https://localhost:8080/",
     "height": 296
    },
    "id": "c16743b0-c1cc-4083-8181-eeb7d1cff8d6",
    "outputId": "36ee0ee8-5e8f-481e-ef4e-20c0dba39a77"
   },
   "outputs": [],
   "source": [
    "\n",
    "sns.countplot(train_df['status'])\n",
    "\n"
   ]
  },
  {
   "cell_type": "code",
   "execution_count": null,
   "id": "57c4e4a9-fa47-4451-8722-00a8cf637656",
   "metadata": {
    "id": "57c4e4a9-fa47-4451-8722-00a8cf637656"
   },
   "outputs": [],
   "source": [
    "X_train = train_df.drop(columns=['status'])\n",
    "y_train = train_df['status']\n",
    "X_test = test_df.drop(columns=['status'])\n",
    "y_test = test_df['status']"
   ]
  },
  {
   "cell_type": "markdown",
   "id": "1286ecd8-6a77-4be6-bac5-b7fc11f73243",
   "metadata": {
    "id": "1286ecd8-6a77-4be6-bac5-b7fc11f73243",
    "tags": []
   },
   "source": [
    "### Training the data on Decision Tree model to ascertain the performance"
   ]
  },
  {
   "cell_type": "code",
   "execution_count": null,
   "id": "24d2449e-80cc-4abe-9ebf-967139d19a4b",
   "metadata": {
    "colab": {
     "base_uri": "https://localhost:8080/"
    },
    "id": "24d2449e-80cc-4abe-9ebf-967139d19a4b",
    "outputId": "f73b8e81-66f5-4ea1-eb94-8349326ec038"
   },
   "outputs": [],
   "source": [
    "dtree=DecisionTreeClassifier(random_state=1)\n",
    "dtree.fit(X_train, y_train)"
   ]
  },
  {
   "cell_type": "code",
   "execution_count": null,
   "id": "8c34bc81-0e98-4921-ba0e-97f09e11da13",
   "metadata": {
    "id": "8c34bc81-0e98-4921-ba0e-97f09e11da13"
   },
   "outputs": [],
   "source": [
    "y_pred_DT = dtree.predict(X_test)"
   ]
  },
  {
   "cell_type": "code",
   "execution_count": null,
   "id": "7a116d42-ad1d-401e-b8b7-1956d1e4a20e",
   "metadata": {
    "colab": {
     "base_uri": "https://localhost:8080/"
    },
    "id": "7a116d42-ad1d-401e-b8b7-1956d1e4a20e",
    "outputId": "39fa89a5-5b00-44be-a18b-a9407261fbe9"
   },
   "outputs": [],
   "source": [
    "confusion_matrix(y_test,y_pred_DT)"
   ]
  },
  {
   "cell_type": "code",
   "execution_count": null,
   "id": "35cfc461-5eaa-45bc-9be2-7c0e02e55f6e",
   "metadata": {
    "id": "35cfc461-5eaa-45bc-9be2-7c0e02e55f6e"
   },
   "outputs": [],
   "source": [
    "DT_scores = []\n",
    "DT_scores.append({ 'Model' : 'Decision Tree',\n",
    "                'Accuracy': accuracy_score(y_test, y_pred_DT),\n",
    "                'Precision': precision_score(y_test, y_pred_DT),\n",
    "                'Recall':recall_score(y_test, y_pred_DT),\n",
    "                'F1': f1_score(y_test,y_pred_DT),\n",
    "                'F2': fbeta_score(y_test,y_pred_DT, beta = 2, average = 'binary')\n",
    "})"
   ]
  },
  {
   "cell_type": "code",
   "execution_count": null,
   "id": "980886b5-5e1b-4ae2-a438-04f3a436a82a",
   "metadata": {
    "colab": {
     "base_uri": "https://localhost:8080/"
    },
    "id": "980886b5-5e1b-4ae2-a438-04f3a436a82a",
    "outputId": "34ee9a29-deae-4ab3-897c-3462e78df6e2"
   },
   "outputs": [],
   "source": [
    "DT_scores"
   ]
  },
  {
   "cell_type": "markdown",
   "id": "e42d5965-339c-4e09-a644-024d6603e60b",
   "metadata": {
    "id": "e42d5965-339c-4e09-a644-024d6603e60b"
   },
   "source": [
    "### Training the data on Random Forest model to ascertain the performance"
   ]
  },
  {
   "cell_type": "code",
   "execution_count": null,
   "id": "ec7179b5-a4f8-4be5-8673-d06030e40580",
   "metadata": {
    "id": "ec7179b5-a4f8-4be5-8673-d06030e40580"
   },
   "outputs": [],
   "source": [
    "rforest = RandomForestClassifier(random_state=99)\n",
    "_ = rforest.fit(X_train, y_train)"
   ]
  },
  {
   "cell_type": "code",
   "execution_count": null,
   "id": "11813b9a-69b5-44a1-a7ab-066bed479071",
   "metadata": {
    "colab": {
     "base_uri": "https://localhost:8080/"
    },
    "id": "11813b9a-69b5-44a1-a7ab-066bed479071",
    "outputId": "ae9839f6-7d27-419e-9dee-c8f958f8e894"
   },
   "outputs": [],
   "source": [
    "y_pred_RF = rforest.predict(X_test)\n",
    "confusion_matrix(y_test,y_pred_RF)"
   ]
  },
  {
   "cell_type": "code",
   "execution_count": null,
   "id": "98f3cce1-b2c3-4791-bc12-894cf1b981fe",
   "metadata": {
    "id": "98f3cce1-b2c3-4791-bc12-894cf1b981fe"
   },
   "outputs": [],
   "source": [
    "RF_scores = []\n",
    "RF_scores.append({ 'Model' : 'Random Forest',\n",
    "                'Accuracy': accuracy_score(y_test, y_pred_RF),\n",
    "                'Precision': precision_score(y_test, y_pred_RF),\n",
    "                'Recall':recall_score(y_test, y_pred_RF),\n",
    "                'F1': f1_score(y_test,y_pred_RF),\n",
    "                'F2': fbeta_score(y_test,y_pred_RF, beta = 2, average = 'binary')\n",
    "})\n"
   ]
  },
  {
   "cell_type": "code",
   "execution_count": null,
   "id": "aa8f6ad1-bf4f-4b5a-8e47-c6fc54220a7b",
   "metadata": {
    "colab": {
     "base_uri": "https://localhost:8080/"
    },
    "id": "aa8f6ad1-bf4f-4b5a-8e47-c6fc54220a7b",
    "outputId": "9f8a39a2-9169-4b2b-fed4-b47386654030"
   },
   "outputs": [],
   "source": [
    "RF_scores"
   ]
  },
  {
   "cell_type": "markdown",
   "id": "c254dac6-6aec-45ce-b7b4-dfb229739633",
   "metadata": {
    "id": "c254dac6-6aec-45ce-b7b4-dfb229739633"
   },
   "source": [
    "### Conclusion for Case-1\n",
    "\n",
    "Clearly from the above decision tree and Random forest model performance metrics,we can infer that the students' attributes at the time of enrolment has less predictive ability on the drop-out status."
   ]
  },
  {
   "cell_type": "markdown",
   "id": "b6af2ee4-241a-4bf4-aefd-c4b0ed0784fc",
   "metadata": {
    "id": "b6af2ee4-241a-4bf4-aefd-c4b0ed0784fc"
   },
   "source": [
    "# Case-2 : Model Prediction excluding the macro-economic data attributes like GDP, Unemployment rate and Inflation\n"
   ]
  },
  {
   "cell_type": "markdown",
   "id": "fce9fd0d-203f-4cff-8ce0-3be5a75dfa00",
   "metadata": {
    "id": "fce9fd0d-203f-4cff-8ce0-3be5a75dfa00"
   },
   "source": [
    "Note:\n",
    "    \n",
    "There is ambiguity on the year considered (whether it is at the time of enrolment /at the time of student drop-out)\n",
    "for the macro-economic factors in the dataset(\"Employment rate\", \"GDP\" and \"Inflation).\n",
    "Hence, the same are being dropped for the analysis."
   ]
  },
  {
   "cell_type": "code",
   "execution_count": null,
   "id": "fd05dbe1-bc61-4c2a-bd5c-3afe50f972ba",
   "metadata": {
    "id": "fd05dbe1-bc61-4c2a-bd5c-3afe50f972ba"
   },
   "outputs": [],
   "source": [
    "df = df.drop(df.columns[[33,34,35]], axis=1) "
   ]
  },
  {
   "cell_type": "markdown",
   "id": "e6aa2b9d-444b-467b-934a-7e2f09e9ca26",
   "metadata": {
    "id": "e6aa2b9d-444b-467b-934a-7e2f09e9ca26"
   },
   "source": [
    "**Encoding dummies for the categorical variables**"
   ]
  },
  {
   "cell_type": "code",
   "execution_count": null,
   "id": "7dd636be-f910-4cce-b35b-383a7ddac8f4",
   "metadata": {
    "colab": {
     "base_uri": "https://localhost:8080/",
     "height": 300
    },
    "id": "7dd636be-f910-4cce-b35b-383a7ddac8f4",
    "outputId": "c8635b44-156d-403f-d92b-3f1043d2289c"
   },
   "outputs": [],
   "source": [
    "df = pd.get_dummies(df, columns = category_cols)\n",
    "df.head()"
   ]
  },
  {
   "cell_type": "markdown",
   "id": "01d6575e-b09f-4697-b935-ffedbd66c61e",
   "metadata": {
    "id": "01d6575e-b09f-4697-b935-ffedbd66c61e"
   },
   "source": [
    "**Visualize the class counts to check for imbalance**"
   ]
  },
  {
   "cell_type": "code",
   "execution_count": null,
   "id": "90696619-f4df-4eb8-b087-f69d377ee904",
   "metadata": {
    "colab": {
     "base_uri": "https://localhost:8080/",
     "height": 351
    },
    "id": "90696619-f4df-4eb8-b087-f69d377ee904",
    "outputId": "96d9d510-922f-4f87-878b-220bab5d81dc"
   },
   "outputs": [],
   "source": [
    "sns.countplot(df['status'])"
   ]
  },
  {
   "cell_type": "markdown",
   "id": "fe1b7846-f1c7-4ff2-9aa9-29c4e3082095",
   "metadata": {
    "id": "fe1b7846-f1c7-4ff2-9aa9-29c4e3082095"
   },
   "source": [
    "## Step-5: Partition the data into Training and Test sets for model evaluation"
   ]
  },
  {
   "cell_type": "markdown",
   "id": "a4629749-8906-4236-a658-7ce09cb3f6f1",
   "metadata": {
    "id": "a4629749-8906-4236-a658-7ce09cb3f6f1"
   },
   "source": [
    "We've decided to utilize a training/test split of the data at 70% training and 30% testing. This percentage split ratio is inline with common practice for small to medium sized datasets, which this data represents. Moreover, we have decided not to do a three way data split as we wish to allocate as much data as possible to training."
   ]
  },
  {
   "cell_type": "code",
   "execution_count": null,
   "id": "2970c55e-e840-4d1a-9d4a-7e757b136b69",
   "metadata": {
    "id": "2970c55e-e840-4d1a-9d4a-7e757b136b69"
   },
   "outputs": [],
   "source": [
    "train_df, test_df = train_test_split(df, train_size=0.7, random_state=99)"
   ]
  },
  {
   "cell_type": "markdown",
   "id": "677793c5-bf01-4854-a511-b1b9034f8de0",
   "metadata": {
    "id": "677793c5-bf01-4854-a511-b1b9034f8de0"
   },
   "source": [
    "## Step-6: Address Data Imbalances of training set with Oversampling technique"
   ]
  },
  {
   "cell_type": "code",
   "execution_count": null,
   "id": "29d85ab6-63bd-45ac-a15b-209d10fe1610",
   "metadata": {
    "id": "29d85ab6-63bd-45ac-a15b-209d10fe1610"
   },
   "outputs": [],
   "source": [
    "count_0 = (train_df.status==0).sum()\n",
    "count_1 = (train_df.status==1).sum()"
   ]
  },
  {
   "cell_type": "code",
   "execution_count": null,
   "id": "f57d62b0-1460-40f8-a54d-7b020680f09e",
   "metadata": {
    "id": "f57d62b0-1460-40f8-a54d-7b020680f09e"
   },
   "outputs": [],
   "source": [
    "train_df_0 = train_df.loc[train_df.status==0]\n",
    "train_df_1 = train_df.loc[train_df.status==1]"
   ]
  },
  {
   "cell_type": "code",
   "execution_count": null,
   "id": "aec4d8ae-1f0a-4819-a27b-5b66193b5690",
   "metadata": {
    "id": "aec4d8ae-1f0a-4819-a27b-5b66193b5690"
   },
   "outputs": [],
   "source": [
    "train_df_1_oversampled = train_df_1.sample((count_0-count_1),replace=True)"
   ]
  },
  {
   "cell_type": "code",
   "execution_count": null,
   "id": "fd1d5a08-6489-4ae8-a341-4f474a7e5915",
   "metadata": {
    "id": "fd1d5a08-6489-4ae8-a341-4f474a7e5915"
   },
   "outputs": [],
   "source": [
    "train_df = pd.concat([train_df,train_df_1_oversampled],ignore_index = True)"
   ]
  },
  {
   "cell_type": "code",
   "execution_count": null,
   "id": "8cf60c3c-0d4e-4e9a-934a-f4cab67af63d",
   "metadata": {
    "colab": {
     "base_uri": "https://localhost:8080/",
     "height": 296
    },
    "id": "8cf60c3c-0d4e-4e9a-934a-f4cab67af63d",
    "outputId": "d01ed405-6d66-4967-fae4-04bced3099ae"
   },
   "outputs": [],
   "source": [
    "sns.countplot(train_df['status'])"
   ]
  },
  {
   "cell_type": "code",
   "execution_count": null,
   "id": "b36f6e5c-297b-4dd3-97c4-ba7b9e677059",
   "metadata": {
    "id": "b36f6e5c-297b-4dd3-97c4-ba7b9e677059"
   },
   "outputs": [],
   "source": [
    "X_train = train_df.drop(columns=['status'])\n",
    "y_train = train_df['status']\n",
    "X_test = test_df.drop(columns=['status'])\n",
    "y_test = test_df['status']"
   ]
  },
  {
   "cell_type": "markdown",
   "id": "b2af7c3b-7c1a-47fb-a838-eb1b2d20e714",
   "metadata": {
    "id": "b2af7c3b-7c1a-47fb-a838-eb1b2d20e714"
   },
   "source": [
    "# Step-7: Train the models"
   ]
  },
  {
   "cell_type": "markdown",
   "id": "16907403-f29d-426e-a24a-be7f94c3ce33",
   "metadata": {
    "id": "16907403-f29d-426e-a24a-be7f94c3ce33"
   },
   "source": [
    "### 7(a) Decision Tree with Hyper-Parametric Tuning"
   ]
  },
  {
   "cell_type": "code",
   "execution_count": null,
   "id": "YIrUj-yAtBW1",
   "metadata": {
    "id": "YIrUj-yAtBW1"
   },
   "outputs": [],
   "source": [
    "# Criterion used to guide data splits\n",
    "criterion = ['gini', 'entropy','log_loss']\n",
    "\n",
    "max_depth = [int(x) for x in np.linspace(900, 1200, 50)]\n",
    "max_depth.append(None)\n",
    "min_samples_split = [int(x) for x in np.linspace(0, 100, 20)]\n",
    "min_samples_leaf = [int(x) for x in np.linspace(1, 100, 30)] \n",
    "max_leaf_nodes = [int(x) for x in np.linspace(2, len(y_test), 50)]\n",
    "max_leaf_nodes.append(None)\n",
    "min_impurity_decrease = [x for x in np.arange(0.0, 0.01, 0.0001).round(5)]\n"
   ]
  },
  {
   "cell_type": "code",
   "execution_count": null,
   "id": "6d9b191f-0736-4c71-bd7b-728520fb7871",
   "metadata": {
    "id": "6d9b191f-0736-4c71-bd7b-728520fb7871"
   },
   "outputs": [],
   "source": [
    "# Create the random grid\n",
    "param_grid_random = { 'criterion': criterion,\n",
    "                      'max_depth': max_depth,\n",
    "                      'min_samples_split': min_samples_split,\n",
    "                      'min_samples_leaf' : min_samples_leaf,\n",
    "                      'max_leaf_nodes' : max_leaf_nodes,\n",
    "                      'min_impurity_decrease' : min_impurity_decrease,\n",
    "                     }\n"
   ]
  },
  {
   "cell_type": "code",
   "execution_count": null,
   "id": "HfcO9x-KtBNk",
   "metadata": {
    "colab": {
     "base_uri": "https://localhost:8080/"
    },
    "id": "HfcO9x-KtBNk",
    "outputId": "2b3414a2-d6c4-4dc3-b0e6-2d39d018fa7c"
   },
   "outputs": [],
   "source": [
    "best_random_search_model = RandomizedSearchCV(\n",
    "        estimator=DecisionTreeClassifier(random_state=99), \n",
    "        scoring='recall', \n",
    "        param_distributions=param_grid_random, \n",
    "        n_iter = 1500, \n",
    "        cv=10, \n",
    "        verbose=0, \n",
    "        n_jobs = -1\n",
    "    )\n",
    "_ = best_random_search_model.fit(X_train, y_train)"
   ]
  },
  {
   "cell_type": "code",
   "execution_count": null,
   "id": "CkwE9OjptBKX",
   "metadata": {
    "colab": {
     "base_uri": "https://localhost:8080/"
    },
    "id": "CkwE9OjptBKX",
    "outputId": "3cabe382-29fb-480c-fe72-e16606c629db"
   },
   "outputs": [],
   "source": [
    "random_search_best_params = best_random_search_model.best_params_\n",
    "print('Best parameters found:', random_search_best_params)"
   ]
  },
  {
   "cell_type": "code",
   "execution_count": null,
   "id": "wZ_YOWw4vXtv",
   "metadata": {
    "id": "wZ_YOWw4vXtv"
   },
   "outputs": [],
   "source": [
    "param_grid = {\n",
    "    'max_depth': [920,925,930], \n",
    "    'min_samples_split': [24,26,28], \n",
    "    'min_samples_leaf' : [1,2,3],\n",
    "    'min_impurity_decrease': [0.0004, 0.0005,0.0006], \n",
    "    'criterion': ['gini']\n",
    "}"
   ]
  },
  {
   "cell_type": "code",
   "execution_count": null,
   "id": "Lm06myErvXlo",
   "metadata": {
    "id": "Lm06myErvXlo"
   },
   "outputs": [],
   "source": [
    "best_grid_search_model = GridSearchCV(estimator=DecisionTreeClassifier(random_state=99), \n",
    "                                    scoring='recall', param_grid=param_grid, cv=10, verbose=0,  n_jobs = -1)\n",
    "_ = best_grid_search_model.fit(X_train, y_train)"
   ]
  },
  {
   "cell_type": "code",
   "execution_count": null,
   "id": "eb9f7378-92ca-4681-905e-542626824c23",
   "metadata": {
    "id": "eb9f7378-92ca-4681-905e-542626824c23"
   },
   "outputs": [],
   "source": [
    "y_pred_DT = best_grid_search_model.predict(X_test)"
   ]
  },
  {
   "cell_type": "code",
   "execution_count": null,
   "id": "123477d3-7ad6-470b-85a1-6b855a28c320",
   "metadata": {
    "colab": {
     "base_uri": "https://localhost:8080/"
    },
    "id": "123477d3-7ad6-470b-85a1-6b855a28c320",
    "outputId": "67f49bd8-9741-476e-c7ce-49ba47881714"
   },
   "outputs": [],
   "source": [
    "confusion_matrix(y_test,y_pred_DT)"
   ]
  },
  {
   "cell_type": "code",
   "execution_count": null,
   "id": "b5105a5e-2770-4ab3-bde2-9fd2b275197c",
   "metadata": {
    "id": "b5105a5e-2770-4ab3-bde2-9fd2b275197c"
   },
   "outputs": [],
   "source": [
    "DT_scores = []\n",
    "DT_scores.append({ 'Model' : 'Decision Tree',\n",
    "                'Accuracy': accuracy_score(y_test, y_pred_DT),\n",
    "                'Precision': precision_score(y_test, y_pred_DT),\n",
    "                'Recall':recall_score(y_test, y_pred_DT),\n",
    "                'F1': f1_score(y_test,y_pred_DT),\n",
    "                'F2': fbeta_score(y_test,y_pred_DT, beta = 2, average = 'binary')\n",
    "})"
   ]
  },
  {
   "cell_type": "code",
   "execution_count": null,
   "id": "a0168b42-8e11-47ba-8699-af684793fd14",
   "metadata": {
    "colab": {
     "base_uri": "https://localhost:8080/",
     "height": 81
    },
    "id": "a0168b42-8e11-47ba-8699-af684793fd14",
    "outputId": "67850005-8cc2-4a10-ea0e-acbd610c7440"
   },
   "outputs": [],
   "source": [
    "Decision_Tree_scores= pd.DataFrame(DT_scores)\n",
    "Decision_Tree_scores"
   ]
  },
  {
   "cell_type": "markdown",
   "id": "1ed18b6f-11b9-4f5d-b266-b74c77ac8ceb",
   "metadata": {
    "id": "1ed18b6f-11b9-4f5d-b266-b74c77ac8ceb"
   },
   "source": [
    "### 7(b) Random Forest- Ensemble Technique(Bagging)"
   ]
  },
  {
   "cell_type": "code",
   "execution_count": null,
   "id": "83750801-bf2b-41e8-9932-74f664e047ca",
   "metadata": {
    "id": "83750801-bf2b-41e8-9932-74f664e047ca"
   },
   "outputs": [],
   "source": [
    "rforest = RandomForestClassifier(random_state=99)\n",
    "_ = rforest.fit(X_train, y_train)"
   ]
  },
  {
   "cell_type": "code",
   "execution_count": null,
   "id": "ea2ce3c9-7c81-4e19-a866-49ffddc30464",
   "metadata": {
    "id": "ea2ce3c9-7c81-4e19-a866-49ffddc30464"
   },
   "outputs": [],
   "source": [
    "y_pred_RF = rforest.predict(X_test)"
   ]
  },
  {
   "cell_type": "code",
   "execution_count": null,
   "id": "15d349eb-8ad6-47da-9289-08b524668742",
   "metadata": {
    "colab": {
     "base_uri": "https://localhost:8080/"
    },
    "id": "15d349eb-8ad6-47da-9289-08b524668742",
    "outputId": "e128f602-26cb-4cae-af77-34ae753d5c90"
   },
   "outputs": [],
   "source": [
    "confusion_matrix(y_test,y_pred_RF)"
   ]
  },
  {
   "cell_type": "code",
   "execution_count": null,
   "id": "284af8c7-ff0f-470f-986e-e790e8796194",
   "metadata": {
    "id": "284af8c7-ff0f-470f-986e-e790e8796194"
   },
   "outputs": [],
   "source": [
    "RF_scores = []\n",
    "RF_scores.append({ 'Model' : 'Random Forest',\n",
    "                'Accuracy': accuracy_score(y_test, y_pred_RF),\n",
    "                'Precision': precision_score(y_test, y_pred_RF),\n",
    "                'Recall':recall_score(y_test, y_pred_RF),\n",
    "                'F1': f1_score(y_test,y_pred_RF),\n",
    "                'F2': fbeta_score(y_test,y_pred_RF, beta = 2, average = 'binary')\n",
    "})"
   ]
  },
  {
   "cell_type": "code",
   "execution_count": null,
   "id": "4096490c-2fd0-4d18-bb53-10a04bf2649d",
   "metadata": {
    "colab": {
     "base_uri": "https://localhost:8080/",
     "height": 81
    },
    "id": "4096490c-2fd0-4d18-bb53-10a04bf2649d",
    "outputId": "5782c55e-2a6e-4adf-f148-887d84554f5d"
   },
   "outputs": [],
   "source": [
    "Random_Forest_scores= pd.DataFrame(RF_scores)\n",
    "Random_Forest_scores"
   ]
  },
  {
   "cell_type": "markdown",
   "id": "f687ebdc-e637-4981-acf8-816f49f5f306",
   "metadata": {
    "id": "f687ebdc-e637-4981-acf8-816f49f5f306"
   },
   "source": [
    "### 7(c) AdaBoost"
   ]
  },
  {
   "cell_type": "code",
   "execution_count": null,
   "id": "19ab701d-e4e1-4c05-9e90-c752d63b60d4",
   "metadata": {
    "id": "19ab701d-e4e1-4c05-9e90-c752d63b60d4"
   },
   "outputs": [],
   "source": [
    "aboost = AdaBoostClassifier(random_state=99)\n",
    "_ = aboost.fit(X_train, y_train)"
   ]
  },
  {
   "cell_type": "code",
   "execution_count": null,
   "id": "99e001ce-6a3e-438f-a52f-31db2f58478e",
   "metadata": {
    "id": "99e001ce-6a3e-438f-a52f-31db2f58478e"
   },
   "outputs": [],
   "source": [
    "y_pred_ADB = aboost.predict(X_test)"
   ]
  },
  {
   "cell_type": "code",
   "execution_count": null,
   "id": "IB2Tdfkw3BYN",
   "metadata": {
    "colab": {
     "base_uri": "https://localhost:8080/"
    },
    "id": "IB2Tdfkw3BYN",
    "outputId": "ccef6ab4-4f56-41df-da5f-7017f7672029"
   },
   "outputs": [],
   "source": [
    "confusion_matrix(y_test, y_pred_ADB)"
   ]
  },
  {
   "cell_type": "code",
   "execution_count": null,
   "id": "e6efde2a-cece-4398-be91-3d044747272a",
   "metadata": {
    "id": "e6efde2a-cece-4398-be91-3d044747272a"
   },
   "outputs": [],
   "source": [
    "ADB = []\n",
    "ADB.append({ \n",
    "                'Model' : 'AdaBoost',\n",
    "                'Accuracy': accuracy_score(y_test, y_pred_ADB),\n",
    "                'Precision': precision_score(y_test, y_pred_ADB),\n",
    "                'Recall':recall_score(y_test, y_pred_ADB),\n",
    "                'F1': f1_score(y_test,y_pred_ADB),\n",
    "                'F2': fbeta_score(y_test,y_pred_ADB, beta = 2, average = 'binary')\n",
    "})"
   ]
  },
  {
   "cell_type": "code",
   "execution_count": null,
   "id": "too1iFhN1GKs",
   "metadata": {
    "colab": {
     "base_uri": "https://localhost:8080/",
     "height": 81
    },
    "id": "too1iFhN1GKs",
    "outputId": "2207ff05-eb98-4e80-8afc-286052755034"
   },
   "outputs": [],
   "source": [
    "AdaBoost_scores= pd.DataFrame(ADB)\n",
    "AdaBoost_scores"
   ]
  },
  {
   "cell_type": "markdown",
   "id": "54e85e62-da39-4592-b279-b4f967906e9f",
   "metadata": {
    "id": "54e85e62-da39-4592-b279-b4f967906e9f"
   },
   "source": [
    "### 7(d) Gradient Boost"
   ]
  },
  {
   "cell_type": "code",
   "execution_count": null,
   "id": "209715b3-6433-4549-ae60-dd934f41275d",
   "metadata": {
    "id": "209715b3-6433-4549-ae60-dd934f41275d"
   },
   "outputs": [],
   "source": [
    "gboost = GradientBoostingClassifier(random_state=99)\n",
    "_ = gboost.fit(X_train, y_train)\n"
   ]
  },
  {
   "cell_type": "code",
   "execution_count": null,
   "id": "QZ-tP1yB1aAd",
   "metadata": {
    "id": "QZ-tP1yB1aAd"
   },
   "outputs": [],
   "source": [
    "y_pred_GB = gboost.predict(X_test)"
   ]
  },
  {
   "cell_type": "code",
   "execution_count": null,
   "id": "8n1S4NI22FQx",
   "metadata": {
    "colab": {
     "base_uri": "https://localhost:8080/"
    },
    "id": "8n1S4NI22FQx",
    "outputId": "a282b161-a916-4d13-9057-29baa1963917"
   },
   "outputs": [],
   "source": [
    "confusion_matrix(y_test, y_pred_GB)"
   ]
  },
  {
   "cell_type": "code",
   "execution_count": null,
   "id": "eSWRbllG1coH",
   "metadata": {
    "id": "eSWRbllG1coH"
   },
   "outputs": [],
   "source": [
    "GB = []\n",
    "GB.append({     'Model' : 'Gradient Boost',\n",
    "                'Accuracy': accuracy_score(y_test, y_pred_GB),\n",
    "                'Precision': precision_score(y_test, y_pred_GB),\n",
    "                'Recall':recall_score(y_test, y_pred_GB),\n",
    "                'F1': f1_score(y_test,y_pred_GB),\n",
    "                'F2': fbeta_score(y_test,y_pred_GB, beta = 2, average = 'binary')\n",
    "})"
   ]
  },
  {
   "cell_type": "code",
   "execution_count": null,
   "id": "qTvkOs_o1m98",
   "metadata": {
    "colab": {
     "base_uri": "https://localhost:8080/",
     "height": 81
    },
    "id": "qTvkOs_o1m98",
    "outputId": "f5223df7-ca89-4a39-d5c6-9ab37114d26b"
   },
   "outputs": [],
   "source": [
    "GradBoost_scores= pd.DataFrame(GB)\n",
    "GradBoost_scores"
   ]
  },
  {
   "cell_type": "markdown",
   "id": "8d6534ac-cee3-4dcb-96ae-e7abda572c13",
   "metadata": {
    "id": "8d6534ac-cee3-4dcb-96ae-e7abda572c13"
   },
   "source": [
    "### 7(e) K-Nearest Neighbours with Hyper Parameter tuning"
   ]
  },
  {
   "cell_type": "code",
   "execution_count": null,
   "id": "2f4b0488-3518-4a92-8f38-9be3c53895e9",
   "metadata": {
    "id": "2f4b0488-3518-4a92-8f38-9be3c53895e9"
   },
   "outputs": [],
   "source": [
    "#Standardize the data\n",
    "\n",
    "scaler = StandardScaler()\n",
    "scaler.fit(X_train)\n",
    "X_train_KNN = scaler.transform(X_train)\n",
    "X_test_KNN = scaler.transform(X_test)\n",
    "y_train_KNN = y_train\n",
    "y_test_KNN = y_test\n",
    "\n"
   ]
  },
  {
   "cell_type": "code",
   "execution_count": null,
   "id": "4d84533e-291e-4694-aefe-574e288b5948",
   "metadata": {
    "colab": {
     "base_uri": "https://localhost:8080/"
    },
    "id": "4d84533e-291e-4694-aefe-574e288b5948",
    "outputId": "5bedeb05-b4d8-4fb2-da6c-4c74b058e1e8"
   },
   "outputs": [],
   "source": [
    "#knn\n",
    "k_fold = 10\n",
    "param_grid = {\n",
    "    'n_neighbors': list(range(1,round(len(y_train)**0.5),2)),\n",
    "    'metric': ['euclidean', 'cosine']    \n",
    "}\n",
    "\n",
    "\n",
    "gridSearch = GridSearchCV(KNeighborsClassifier(), param_grid, cv=k_fold, scoring='recall',\n",
    "                              n_jobs=-1)  # n_jobs=-1 will utilize all available CPUs \n",
    "gridSearch.fit(X_train_KNN, y_train)\n",
    "print('score: ', gridSearch.best_score_)\n",
    "print('parameters: ', gridSearch.best_params_)\n",
    "best_KNN = gridSearch.best_estimator_\n",
    "y_pred_KNN = best_KNN.predict(X_test_KNN)\n"
   ]
  },
  {
   "cell_type": "code",
   "execution_count": null,
   "id": "9e141161-d080-4510-97ff-aa38ef5f7f2d",
   "metadata": {
    "id": "9e141161-d080-4510-97ff-aa38ef5f7f2d"
   },
   "outputs": [],
   "source": [
    "KNN = []\n",
    "for k in range(1,int(len(y_test)**0.5)*2,2):\n",
    "    knn = KNeighborsClassifier(n_neighbors=k,  metric='cosine')\n",
    "    knn.fit(X_train, y_train)\n",
    "    y_pred_knn = knn.predict(X_test)\n",
    "    \n",
    "    KNN.append({ \n",
    "                'k':k,\n",
    "                'Accuracy': accuracy_score(y_test, y_pred_knn),\n",
    "                'Precision': precision_score(y_test, y_pred_knn),\n",
    "                'Recall':recall_score(y_test, y_pred_knn),\n",
    "                'F1': f1_score(y_test,y_pred_GB),\n",
    "                'F2': fbeta_score(y_test,y_pred_GB, beta = 2, average = 'binary')\n",
    "        })\n"
   ]
  },
  {
   "cell_type": "code",
   "execution_count": null,
   "id": "c10814bc-6cba-44b2-908a-04ac72888d7f",
   "metadata": {
    "colab": {
     "base_uri": "https://localhost:8080/",
     "height": 1000
    },
    "id": "c10814bc-6cba-44b2-908a-04ac72888d7f",
    "outputId": "f4f5f214-8d93-4b3d-9ef3-efd185a946f5"
   },
   "outputs": [],
   "source": [
    "KNN_scores_df = pd.DataFrame(KNN)\n",
    "KNN_scores_df"
   ]
  },
  {
   "cell_type": "code",
   "execution_count": null,
   "id": "b646085e-e6c2-48d0-be1e-ace3373f5508",
   "metadata": {
    "colab": {
     "base_uri": "https://localhost:8080/"
    },
    "id": "b646085e-e6c2-48d0-be1e-ace3373f5508",
    "outputId": "97bf7421-cac0-4acd-b8bf-8ece1e0e97c4"
   },
   "outputs": [],
   "source": [
    "KNN_scores_df.loc[KNN_scores_df['Recall'].idxmax()]"
   ]
  },
  {
   "cell_type": "code",
   "execution_count": null,
   "id": "9f8e9296-02ce-4d85-84e7-286dfab4713f",
   "metadata": {
    "id": "9f8e9296-02ce-4d85-84e7-286dfab4713f"
   },
   "outputs": [],
   "source": [
    "KNN = []\n",
    "\n",
    "KNN.append({ \n",
    "                'k':k,\n",
    "                'Accuracy': accuracy_score(y_test, y_pred_knn),\n",
    "                'Precision': precision_score(y_test, y_pred_knn),\n",
    "                'Recall':recall_score(y_test, y_pred_knn),\n",
    "                'F1': f1_score(y_test,y_pred_GB),\n",
    "                'F2': fbeta_score(y_test,y_pred_GB, beta = 2, average = 'binary')\n",
    "        })"
   ]
  },
  {
   "cell_type": "code",
   "execution_count": null,
   "id": "30b51c19-b8af-4337-af45-5cc05d779a47",
   "metadata": {
    "id": "30b51c19-b8af-4337-af45-5cc05d779a47"
   },
   "outputs": [],
   "source": [
    "KNN = []\n",
    "\n",
    "KNN.append({ \n",
    "                'Model':'KNN',\n",
    "                'Accuracy': 0.816265,\n",
    "                'Precision': 0.691610,\n",
    "                'Recall':0.738499,\n",
    "                'F1': 0.785714,\n",
    "                'F2': 0.777669\n",
    "        })"
   ]
  },
  {
   "cell_type": "code",
   "execution_count": null,
   "id": "78bf76d7-567b-4b0a-a220-1029d25e562e",
   "metadata": {
    "colab": {
     "base_uri": "https://localhost:8080/",
     "height": 81
    },
    "id": "78bf76d7-567b-4b0a-a220-1029d25e562e",
    "outputId": "e64951fd-71ac-455c-c4e0-4d8f16f12851"
   },
   "outputs": [],
   "source": [
    "KNN_scores_df_1 = pd.DataFrame(KNN)\n",
    "KNN_scores_df_1"
   ]
  },
  {
   "cell_type": "markdown",
   "id": "0e96aebb-1155-4c86-99c0-f31a5f653841",
   "metadata": {
    "id": "0e96aebb-1155-4c86-99c0-f31a5f653841"
   },
   "source": [
    "### 7(f) XG Boost"
   ]
  },
  {
   "cell_type": "code",
   "execution_count": null,
   "id": "adc91934-cc18-404a-a25c-9733e97fbc61",
   "metadata": {
    "id": "adc91934-cc18-404a-a25c-9733e97fbc61"
   },
   "outputs": [],
   "source": [
    "\n",
    "xgboost = XGBClassifier(random_state=99)\n",
    "_ = xgboost.fit(X_train, y_train)\n"
   ]
  },
  {
   "cell_type": "code",
   "execution_count": null,
   "id": "LxbjAtRP24CT",
   "metadata": {
    "id": "LxbjAtRP24CT"
   },
   "outputs": [],
   "source": [
    "y_pred_XGB = xgboost.predict(X_test)"
   ]
  },
  {
   "cell_type": "code",
   "execution_count": null,
   "id": "j6MIZmlf3RmX",
   "metadata": {
    "colab": {
     "base_uri": "https://localhost:8080/"
    },
    "id": "j6MIZmlf3RmX",
    "outputId": "af1e0f2b-884b-4a09-d372-87df4e61faf1"
   },
   "outputs": [],
   "source": [
    "confusion_matrix(y_test,y_pred_XGB)"
   ]
  },
  {
   "cell_type": "code",
   "execution_count": null,
   "id": "oH1H3QAZ3Rej",
   "metadata": {
    "id": "oH1H3QAZ3Rej"
   },
   "outputs": [],
   "source": [
    "XGB = []\n",
    "XGB.append({    'Model' : 'XGBoost',\n",
    "                'Accuracy': accuracy_score(y_test, y_pred_XGB),\n",
    "                'Precision': precision_score(y_test, y_pred_XGB),\n",
    "                'Recall':recall_score(y_test, y_pred_XGB),\n",
    "                'F1': f1_score(y_test,y_pred_XGB),\n",
    "                'F2': fbeta_score(y_test,y_pred_XGB, beta = 2, average = 'binary')\n",
    "})"
   ]
  },
  {
   "cell_type": "code",
   "execution_count": null,
   "id": "yZjCMwke3q_d",
   "metadata": {
    "colab": {
     "base_uri": "https://localhost:8080/",
     "height": 81
    },
    "id": "yZjCMwke3q_d",
    "outputId": "1ed46812-a54b-4825-d923-734ea83c9c6f"
   },
   "outputs": [],
   "source": [
    "XGBoost_scores= pd.DataFrame(XGB)\n",
    "XGBoost_scores"
   ]
  },
  {
   "cell_type": "markdown",
   "id": "9d23f4c7-f6f7-4518-9cf3-ebd4a87e6f1e",
   "metadata": {
    "id": "9d23f4c7-f6f7-4518-9cf3-ebd4a87e6f1e"
   },
   "source": [
    "### 7(g) Logistic Regression with Hyper parameter tuning"
   ]
  },
  {
   "cell_type": "code",
   "execution_count": null,
   "id": "me0kEIgC7V9_",
   "metadata": {
    "id": "me0kEIgC7V9_"
   },
   "outputs": [],
   "source": [
    "param_grid_LR = { 'solver': ['newton-cg', 'lbfgs', 'liblinear','sag', 'saga'],\n",
    "                      'penalty': ['l1', 'l2', 'none'],\n",
    "                      'C': [100, 10, 1.0, 0.1, 0.01],\n",
    "                      'max_iter': [1000] \n",
    "                     }"
   ]
  },
  {
   "cell_type": "code",
   "execution_count": null,
   "id": "76Ufi0Ho7V5w",
   "metadata": {
    "colab": {
     "base_uri": "https://localhost:8080/"
    },
    "id": "76Ufi0Ho7V5w",
    "outputId": "6295706f-9112-415a-99b2-46d0b82758fb"
   },
   "outputs": [],
   "source": [
    "best_logClassifier = GridSearchCV(estimator=LogisticRegression(random_state=99),\n",
    "                                    scoring= 'recall', param_grid=param_grid_LR, \n",
    "                                    cv=2, verbose=0,  n_jobs = -1)\n",
    "best_logClassifier = best_logClassifier.fit(X_train, y_train)"
   ]
  },
  {
   "cell_type": "code",
   "execution_count": null,
   "id": "R-x8-Biz7Vyq",
   "metadata": {
    "id": "R-x8-Biz7Vyq"
   },
   "outputs": [],
   "source": [
    "y_pred_LR = best_logClassifier.predict(X_test)"
   ]
  },
  {
   "cell_type": "code",
   "execution_count": null,
   "id": "FUqjqGtq7VwE",
   "metadata": {
    "id": "FUqjqGtq7VwE"
   },
   "outputs": [],
   "source": [
    "LogReg = []\n",
    "LogReg.append({ 'Model' : 'Logistic Regression', \n",
    "                'Accuracy': accuracy_score(y_test, y_pred_LR),\n",
    "                'Precision': precision_score(y_test, y_pred_LR),\n",
    "                'Recall':recall_score(y_test, y_pred_LR),\n",
    "                'F1': f1_score(y_test,y_pred_LR),\n",
    "                'F2': fbeta_score(y_test,y_pred_LR, beta = 2, average = 'binary')\n",
    "})"
   ]
  },
  {
   "cell_type": "code",
   "execution_count": null,
   "id": "J9yMzTod7VtC",
   "metadata": {
    "colab": {
     "base_uri": "https://localhost:8080/",
     "height": 0
    },
    "id": "J9yMzTod7VtC",
    "outputId": "ad215329-7baf-45ae-b44a-257d7aebac37"
   },
   "outputs": [],
   "source": [
    "LogReg_scores= pd.DataFrame(LogReg)\n",
    "LogReg_scores"
   ]
  },
  {
   "cell_type": "markdown",
   "id": "8cb0ede0-253a-4c9b-b22d-9f199fb6f0bd",
   "metadata": {
    "id": "8cb0ede0-253a-4c9b-b22d-9f199fb6f0bd"
   },
   "source": [
    "### 7(h) Artificial Neural Networks(ANN)"
   ]
  },
  {
   "cell_type": "code",
   "execution_count": null,
   "id": "7C12udqB4KNR",
   "metadata": {
    "id": "7C12udqB4KNR"
   },
   "outputs": [],
   "source": [
    "param_grid = {\n",
    "    'hidden_layer_sizes': [(200), (200,100), (200,100,50), (200,100,50,40)], \n",
    "    'solver': ['lbfgs','adam', 'sdg'], \n",
    "    'activation': ['tanh','relu'],\n",
    "    'learning_rate': ['constant', 'invscaling', 'adaptive']\n",
    "}"
   ]
  },
  {
   "cell_type": "code",
   "execution_count": null,
   "id": "9Iho0TIv4pST",
   "metadata": {
    "colab": {
     "base_uri": "https://localhost:8080/"
    },
    "id": "9Iho0TIv4pST",
    "outputId": "eb6862fb-46a6-45aa-e339-512aae2f7222",
    "tags": []
   },
   "outputs": [],
   "source": [
    "best_grid_search_model = GridSearchCV(estimator=MLPClassifier(max_iter=100), \n",
    "                                    scoring='recall', param_grid=param_grid)\n",
    "_ = best_grid_search_model.fit(X_train, y_train)"
   ]
  },
  {
   "cell_type": "code",
   "execution_count": null,
   "id": "MNtTLIIs4bx7",
   "metadata": {
    "id": "MNtTLIIs4bx7"
   },
   "outputs": [],
   "source": [
    "y_pred_ANN = best_grid_search_model.predict(X_test)"
   ]
  },
  {
   "cell_type": "code",
   "execution_count": null,
   "id": "yXINUA2X60nI",
   "metadata": {
    "colab": {
     "base_uri": "https://localhost:8080/"
    },
    "id": "yXINUA2X60nI",
    "outputId": "908ccbbb-c9bc-4a1a-a715-078d3bc5ba01"
   },
   "outputs": [],
   "source": [
    "confusion_matrix(y_test,y_pred_ANN)"
   ]
  },
  {
   "cell_type": "code",
   "execution_count": null,
   "id": "Ymha8RNU60kf",
   "metadata": {
    "id": "Ymha8RNU60kf"
   },
   "outputs": [],
   "source": [
    "ANN = []\n",
    "ANN.append({    'Model' : 'Neural Network', \n",
    "                'Accuracy': accuracy_score(y_test, y_pred_ANN),\n",
    "                'Precision': precision_score(y_test, y_pred_ANN),\n",
    "                'Recall':recall_score(y_test, y_pred_ANN),\n",
    "                'F1': f1_score(y_test,y_pred_ANN),\n",
    "                'F2': fbeta_score(y_test,y_pred_ANN, beta = 2, average = 'binary')\n",
    "})"
   ]
  },
  {
   "cell_type": "code",
   "execution_count": null,
   "id": "LzjpW0Qy60hp",
   "metadata": {
    "colab": {
     "base_uri": "https://localhost:8080/",
     "height": 81
    },
    "id": "LzjpW0Qy60hp",
    "outputId": "d3b59486-6630-4f56-e613-41234e7af30a"
   },
   "outputs": [],
   "source": [
    "ANN_scores= pd.DataFrame(ANN)\n",
    "ANN_scores"
   ]
  },
  {
   "cell_type": "code",
   "execution_count": null,
   "id": "Vg3glg_c60fh",
   "metadata": {
    "colab": {
     "base_uri": "https://localhost:8080/"
    },
    "id": "Vg3glg_c60fh",
    "outputId": "d70fcbea-55b8-4baa-d61b-9a4488373623",
    "tags": []
   },
   "outputs": [],
   "source": [
    "best_grid_search_model.get_params()"
   ]
  },
  {
   "cell_type": "code",
   "execution_count": null,
   "id": "GBlIEHSd60co",
   "metadata": {
    "colab": {
     "base_uri": "https://localhost:8080/"
    },
    "id": "GBlIEHSd60co",
    "outputId": "f73113f9-5cc0-488f-c093-c360ab1b26e5"
   },
   "outputs": [],
   "source": [
    "ann = MLPClassifier(hidden_layer_sizes=(250,150,50), solver='lbfgs', max_iter=150)\n",
    "_ = ann.fit(X_train, y_train)\n",
    "y_pred_ANN_1 = ann.predict(X_test)"
   ]
  },
  {
   "cell_type": "code",
   "execution_count": null,
   "id": "fdAqoqlV60Vn",
   "metadata": {
    "id": "fdAqoqlV60Vn"
   },
   "outputs": [],
   "source": [
    "ANN_1 = []\n",
    "ANN_1.append({  'Model' : 'Neural Network-Final', \n",
    "                'Accuracy': accuracy_score(y_test, y_pred_ANN_1),\n",
    "                'Precision': precision_score(y_test, y_pred_ANN_1),\n",
    "                'Recall':recall_score(y_test, y_pred_ANN_1),\n",
    "                'F1': f1_score(y_test,y_pred_ANN_1),\n",
    "                'F2': fbeta_score(y_test,y_pred_ANN_1, beta = 2, average = 'binary')\n",
    "})"
   ]
  },
  {
   "cell_type": "code",
   "execution_count": null,
   "id": "9XaaOcTHT7TE",
   "metadata": {
    "id": "9XaaOcTHT7TE"
   },
   "outputs": [],
   "source": [
    "ANN_1_scores= pd.DataFrame(ANN_1)\n",
    "ANN_1_scores"
   ]
  },
  {
   "cell_type": "markdown",
   "id": "37961d3e-b57e-4ca6-a498-5fe62cf805b9",
   "metadata": {
    "id": "37961d3e-b57e-4ca6-a498-5fe62cf805b9"
   },
   "source": [
    "# Step-8: Performance comparision"
   ]
  },
  {
   "cell_type": "code",
   "execution_count": null,
   "id": "dfcdf382-aa15-4952-a378-53cec41c2012",
   "metadata": {
    "id": "dfcdf382-aa15-4952-a378-53cec41c2012"
   },
   "outputs": [],
   "source": [
    "final = ANN_1_scores.append(ANN_scores).append(XGBoost_scores).append(Decision_Tree_scores).append(Random_Forest_scores).append(AdaBoost_scores).append(GradBoost_scores).append(LogReg_scores).append(KNN_scores_df_1)\n",
    "#final = pd.concat(XGBoost_scores,ANN_1_scores,ANN_scores)\n",
    "       \n"
   ]
  },
  {
   "cell_type": "code",
   "execution_count": null,
   "id": "e6e03d38-7bed-42c4-9e4f-5aad06aabcf5",
   "metadata": {
    "colab": {
     "base_uri": "https://localhost:8080/",
     "height": 332
    },
    "id": "e6e03d38-7bed-42c4-9e4f-5aad06aabcf5",
    "outputId": "3d7b9da9-7641-4b53-8437-49868ad8a938"
   },
   "outputs": [],
   "source": [
    "final"
   ]
  },
  {
   "cell_type": "markdown",
   "id": "5008afc0-6166-45bc-a710-ac9c641af262",
   "metadata": {
    "id": "5008afc0-6166-45bc-a710-ac9c641af262"
   },
   "source": [
    "# Step-9: Conclusion"
   ]
  },
  {
   "cell_type": "markdown",
   "id": "30bbf921-1278-4878-a18e-46ace836ec3e",
   "metadata": {
    "id": "30bbf921-1278-4878-a18e-46ace836ec3e"
   },
   "source": [
    "Below is the summary of the analysis:\n",
    "    \n",
    "Broadly, the attributes can be classified into three categories:\n",
    "    1) Student attributes collected at the time of student enrolment into the college\n",
    "    2) Student academic performance for the first year(2 semesters)\n",
    "    3) Macro-economic data like Inflation, GDP, Unemployment.\n",
    "    \n",
    "Regarding the macro-economic data (\"Employment rate\", \"GDP\" and \"Inflation), there is ambiguity on the year considered (whether it was at the time of enrolment or at the time of student drop-out).\n",
    "Hence, the same are being dropped for the analysis.\n",
    "\n",
    "We considered two cases for our analysis:\n",
    "    \n",
    "In Case-1, we considered only the student attributes collected at the time of enrolment. \n",
    "In Case-2, we considered all the attributes excluding the macro-economic data.\n",
    "\n",
    "The primary objective is to identify the drop-outs early in their academic path so that necessary inteventions by the University can be put into place. So, we aim to minimize the False Negatives through our models. Accordingly, the score we have to maximize is 'Recall'.\n",
    "\n",
    "For the first case, we applied two models to estimate whether we get good performance or not with just the student attributes collected at the time of enrolment so that the University can focus on the potential drop-outs  right from the beginning of the semester. Since, we did not get satisfactory results, we concluded that first year academic performance attributes are crucial to have better results. Accordingly, we considered Case-2 wherein we included all the attributes(excluding the macro-economic data).\n",
    "\n",
    "Below is the summary of the performance of all models:\n",
    "\n",
    "\n",
    "| Model      | Accuracy | Precision | Recall | F1 | F2 |\n",
    "| :----:     |    :----:   |   :----:  |  :----:  |  :----:  |  :----:  |\n",
    "| Neural Network | 0.865964 | 0.779097 | 0.794189  | 0.786571 | 0.791124 |\n",
    "| XGBoost | 0.866717 | 0.796482 | 0.767554 | 0.781751 | 0.773171 |\n",
    "| Decision Tree |0.850904 | 0.745995 | 0.789346 | 0.767059 | 0.780278 |\n",
    "| Random Forest | 0.871235 | 0.837989 | 0.726392 | 0.778210 | 0.746269 |\n",
    "| AdaBoost | 0.852410 | 0.750577 | 0.786925 | 0.768322 | 0.779376 |\n",
    "| Gradient Boost | 0.866717 | 0.795000 | 0.769976 | 0.782288 | 0.774854 |\n",
    "| Logistic Regression | 0.857681 | 0.764151 | 0.784504 | 0.774194 | 0.780347 |\n",
    "| KNN | 0.816265 | 0.691610 | 0.738499 | 0.785714 | 0.77769 |\n",
    "\n",
    "\n",
    "Considering F2 score and recall, Neural Network model performs better than all the models. Also, the accuracy of ANN is comparable to the best accuracy acheived. So, ANN is the best model in this case. A recall of 79.4% in ANN means that the model is able to identify close to 80 out of 100 drop-out students correctly. \n",
    "\n",
    "The novelty and the simplicity of this model is that with almost no cost(i.e., only with the basic, available information of the students) the University can identify correctly close to 80 out of 100 potential drop-out students. The university can leverage this information to conduct counselling/mentoring sessions with students, offer alternate class scheduling, recommend courses, tailor the curriculum etc., to retain these students. This way, it is win-win for both the student and the University. Further, it will benefit society at large owing to the postive correlation of tertiary education with the countries'economy.\n",
    "\n"
   ]
  },
  {
   "cell_type": "code",
   "execution_count": null,
   "id": "qls3hzSOoF_g",
   "metadata": {
    "colab": {
     "base_uri": "https://localhost:8080/"
    },
    "id": "qls3hzSOoF_g",
    "outputId": "a8a63e4f-7a3c-4ce8-c154-af03baf5aa8c"
   },
   "outputs": [],
   "source": [
    "pip install nbconvert\n",
    "\n"
   ]
  },
  {
   "cell_type": "code",
   "execution_count": null,
   "id": "YBJASh-ExDw9",
   "metadata": {
    "colab": {
     "base_uri": "https://localhost:8080/"
    },
    "id": "YBJASh-ExDw9",
    "outputId": "9d4f70e8-d1fb-491c-f318-62baf1250297"
   },
   "outputs": [],
   "source": [
    "conda install nbconvert\n"
   ]
  },
  {
   "cell_type": "code",
   "execution_count": null,
   "id": "UnS9-YVpvlzV",
   "metadata": {
    "colab": {
     "base_uri": "https://localhost:8080/"
    },
    "id": "UnS9-YVpvlzV",
    "outputId": "051ff960-4c47-4577-e07f-3155bdb2821e"
   },
   "outputs": [],
   "source": [
    "!jupyter nbconvert --to html Student Dropout Prediction.ipynb\n"
   ]
  }
 ],
 "metadata": {
  "colab": {
   "collapsed_sections": [
    "1286ecd8-6a77-4be6-bac5-b7fc11f73243",
    "c254dac6-6aec-45ce-b7b4-dfb229739633",
    "fe1b7846-f1c7-4ff2-9aa9-29c4e3082095",
    "677793c5-bf01-4854-a511-b1b9034f8de0",
    "9d23f4c7-f6f7-4518-9cf3-ebd4a87e6f1e",
    "8cb0ede0-253a-4c9b-b22d-9f199fb6f0bd"
   ],
   "provenance": []
  },
  "kernelspec": {
   "display_name": "Python 3 (ipykernel)",
   "language": "python",
   "name": "python3"
  },
  "language_info": {
   "codemirror_mode": {
    "name": "ipython",
    "version": 3
   },
   "file_extension": ".py",
   "mimetype": "text/x-python",
   "name": "python",
   "nbconvert_exporter": "python",
   "pygments_lexer": "ipython3",
   "version": "3.10.9"
  }
 },
 "nbformat": 4,
 "nbformat_minor": 5
}
